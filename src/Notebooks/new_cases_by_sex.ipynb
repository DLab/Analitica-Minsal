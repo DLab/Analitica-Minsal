{
 "cells": [
  {
   "cell_type": "code",
   "execution_count": 13,
   "id": "bound-maryland",
   "metadata": {},
   "outputs": [],
   "source": [
    "import pandas as pd\n",
    "casos = pd.read_csv('https://raw.githubusercontent.com/MinCiencia/Datos-COVID19/master/output/producto16/CasosGeneroEtario_std.csv')\n",
    "tr_edad = {\n",
    "    '00 - 04 años': '00-04',\n",
    "    '05 - 09 años': '05-09',\n",
    "    '10 - 14 años': '10-14',\n",
    "    '15 - 19 años': '15-19',\n",
    "    '20 - 24 años': '20-24',\n",
    "    '25 - 29 años': '25-29',\n",
    "    '30 - 34 años': '30-34',\n",
    "    '35 - 39 años': '35-39',\n",
    "    '40 - 44 años': '40-44',\n",
    "    '45 - 49 años': '45-49',\n",
    "    '50 - 54 años': '50-54',\n",
    "    '55 - 59 años': '55-59',\n",
    "    '60 - 64 años': '60-64',\n",
    "    '65 - 69 años': '65-69',\n",
    "    '70 - 74 años': '70-74',\n",
    "    '75 - 79 años': '75-79',\n",
    "    '80 y más años': '80+'\n",
    "}\n",
    "tr_sex ={\n",
    "    'M': 'Hombre',\n",
    "    'F': 'Mujer'\n",
    "}\n",
    "casos['Grupo de edad'].replace(tr_edad, inplace=True)\n",
    "casos['Sexo'].replace(tr_sex, inplace=True)\n",
    "casos['Fecha'] = pd.to_datetime(casos['Fecha'])\n",
    "casos_genero_edad = pd.pivot_table(casos, values=['Casos confirmados'], index=['Fecha'],\n",
    "                    columns=['Sexo', 'Grupo de edad'])['Casos confirmados']\n",
    "casos_genero_edad = casos_genero_edad.drop(pd.Timestamp('2020-10-02'))\n",
    "casos_genero_edad = casos_genero_edad.resample('D').interpolate('quadratic')\n",
    "casos_genero_edad = casos_genero_edad.diff().fillna(0)\n",
    "casos_genero_edad = casos_genero_edad.astype('int32')"
   ]
  },
  {
   "cell_type": "code",
   "execution_count": 18,
   "id": "connected-climb",
   "metadata": {},
   "outputs": [
    {
     "data": {
      "text/plain": [
       "Sexo    Grupo de edad\n",
       "Hombre  00-04             21400\n",
       "        05-09             23231\n",
       "        10-14             29933\n",
       "        15-19             45820\n",
       "        20-24             81179\n",
       "        25-29            107430\n",
       "        30-34            107571\n",
       "        35-39             87672\n",
       "        40-44             73267\n",
       "        45-49             69442\n",
       "        50-54             63733\n",
       "        55-59             59110\n",
       "        60-64             44229\n",
       "        65-69             28469\n",
       "        70-74             19603\n",
       "        75-79             13583\n",
       "        80+               15940\n",
       "Mujer   00-04             19323\n",
       "        05-09             22345\n",
       "        10-14             31551\n",
       "        15-19             51561\n",
       "        20-24             85888\n",
       "        25-29            108220\n",
       "        30-34            102579\n",
       "        35-39             82925\n",
       "        40-44             71104\n",
       "        45-49             69672\n",
       "        50-54             64938\n",
       "        55-59             59419\n",
       "        60-64             43549\n",
       "        65-69             28876\n",
       "        70-74             20973\n",
       "        75-79             15593\n",
       "        80+               24567\n",
       "dtype: int64"
      ]
     },
     "execution_count": 18,
     "metadata": {},
     "output_type": "execute_result"
    }
   ],
   "source": [
    "casos_genero_edad.sum()"
   ]
  }
 ],
 "metadata": {
  "kernelspec": {
   "display_name": "Python 3",
   "language": "python",
   "name": "python3"
  },
  "language_info": {
   "codemirror_mode": {
    "name": "ipython",
    "version": 3
   },
   "file_extension": ".py",
   "mimetype": "text/x-python",
   "name": "python",
   "nbconvert_exporter": "python",
   "pygments_lexer": "ipython3",
   "version": "3.9.2"
  }
 },
 "nbformat": 4,
 "nbformat_minor": 5
}
