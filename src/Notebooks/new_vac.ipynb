{
 "cells": [
  {
   "cell_type": "code",
   "execution_count": 18,
   "id": "extra-tyler",
   "metadata": {},
   "outputs": [],
   "source": [
    "import pandas as pd\n",
    "import plotly.express as px\n",
    "import plotly.graph_objects as go\n",
    "\n",
    "dosis1 = pd.read_csv('https://raw.githubusercontent.com/MinCiencia/Datos-COVID19/master/output/producto78/vacunados_edad_fecha_1eraDosis_T.csv', index_col=0)\n",
    "dosis2 = pd.read_csv('https://raw.githubusercontent.com/MinCiencia/Datos-COVID19/master/output/producto78/vacunados_edad_fecha_2daDosis_T.csv', index_col=0)\n",
    "dosis1.fillna(0, inplace=True)\n",
    "dosis2.fillna(0, inplace=True)\n",
    "# dosis1[\">=70\"] = dosis1[dosis1.columns[58:]].sum(axis=1)\n",
    "# dosis1[\"60-69\"] = dosis1[dosis1.columns[48:58]].sum(axis=1)\n",
    "# dosis1[\"50-59\"] = dosis1[dosis1.columns[38:48]].sum(axis=1)\n",
    "# dosis1[\"40-49\"] = dosis1[dosis1.columns[28:38]].sum(axis=1)\n",
    "# dosis1[\"<=39\"] = dosis1[dosis1.columns[:28]].sum(axis=1)\n",
    "# dosis2[\">=70\"] = dosis2[dosis2.columns[58:]].sum(axis=1)\n",
    "# dosis2[\"60-69\"] = dosis2[dosis2.columns[48:58]].sum(axis=1)\n",
    "# dosis2[\"50-59\"] = dosis2[dosis2.columns[38:48]].sum(axis=1)\n",
    "# dosis2[\"40-49\"] = dosis2[dosis2.columns[28:38]].sum(axis=1)\n",
    "# dosis2[\"<=39\"] = dosis2[dosis2.columns[:28]].sum(axis=1)\n"
   ]
  },
  {
   "cell_type": "code",
   "execution_count": 19,
   "id": "efficient-minneapolis",
   "metadata": {},
   "outputs": [
    {
     "data": {
      "text/plain": [
       "Index(['12.0', '13.0', '14.0', '15.0', '16.0', '17.0', '18.0', '19.0', '20.0',\n",
       "       '21.0', '22.0', '23.0', '24.0', '25.0', '26.0', '27.0', '28.0', '29.0',\n",
       "       '30.0', '31.0', '32.0', '33.0', '34.0', '35.0', '36.0', '37.0', '38.0',\n",
       "       '39.0'],\n",
       "      dtype='object')"
      ]
     },
     "execution_count": 19,
     "metadata": {},
     "output_type": "execute_result"
    }
   ],
   "source": [
    "dosis1.columns[:28]"
   ]
  }
 ],
 "metadata": {
  "kernelspec": {
   "display_name": "Python 3",
   "language": "python",
   "name": "python3"
  },
  "language_info": {
   "codemirror_mode": {
    "name": "ipython",
    "version": 3
   },
   "file_extension": ".py",
   "mimetype": "text/x-python",
   "name": "python",
   "nbconvert_exporter": "python",
   "pygments_lexer": "ipython3",
   "version": "3.9.2"
  }
 },
 "nbformat": 4,
 "nbformat_minor": 5
}
