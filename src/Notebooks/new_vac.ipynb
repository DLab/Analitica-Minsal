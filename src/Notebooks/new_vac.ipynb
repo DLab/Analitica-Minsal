{
 "cells": [
  {
   "cell_type": "code",
   "execution_count": 6,
   "id": "still-thickness",
   "metadata": {},
   "outputs": [],
   "source": [
    "import pandas as pd\n",
    "import plotly.express as px\n",
    "import plotly.graph_objects as go\n",
    "\n",
    "dosis1 = pd.read_csv('https://raw.githubusercontent.com/MinCiencia/Datos-COVID19/master/output/producto78/vacunados_edad_fecha_1eraDosis_T.csv', index_col=0)\n",
    "dosis2 = pd.read_csv('https://raw.githubusercontent.com/MinCiencia/Datos-COVID19/master/output/producto78/vacunados_edad_fecha_2daDosis_T.csv', index_col=0)\n",
    "dosis1.fillna(0, inplace=True)\n",
    "dosis2.fillna(0, inplace=True)\n",
    "# dosis1[\">=70\"] = dosis1[dosis1.columns[58:]].sum(axis=1)\n",
    "# dosis1[\"60-69\"] = dosis1[dosis1.columns[42:52]].sum(axis=1)\n",
    "# dosis1[\"50-59\"] = dosis1[dosis1.columns[32:42]].sum(axis=1)\n",
    "# dosis1[\"40-49\"] = dosis1[dosis1.columns[22:32]].sum(axis=1)\n",
    "# dosis1[\"<=39\"] = dosis1[dosis1.columns[:22]].sum(axis=1)\n",
    "# dosis2[\">=70\"] = dosis2[dosis2.columns[52:]].sum(axis=1)\n",
    "# dosis2[\"60-69\"] = dosis2[dosis2.columns[42:52]].sum(axis=1)\n",
    "# dosis2[\"50-59\"] = dosis2[dosis2.columns[32:42]].sum(axis=1)\n",
    "# dosis2[\"40-49\"] = dosis2[dosis2.columns[22:32]].sum(axis=1)\n",
    "# dosis2[\"<=39\"] = dosis2[dosis2.columns[:22]].sum(axis=1)\n"
   ]
  },
  {
   "cell_type": "code",
   "execution_count": 13,
   "id": "serial-salvation",
   "metadata": {},
   "outputs": [
    {
     "data": {
      "text/plain": [
       "Index(['60.0', '61.0', '62.0', '63.0', '64.0', '65.0', '66.0', '67.0', '68.0',\n",
       "       '69.0'],\n",
       "      dtype='object')"
      ]
     },
     "execution_count": 13,
     "metadata": {},
     "output_type": "execute_result"
    }
   ],
   "source": [
    "dosis1.columns[48:58]"
   ]
  }
 ],
 "metadata": {
  "kernelspec": {
   "display_name": "Python 3",
   "language": "python",
   "name": "python3"
  },
  "language_info": {
   "codemirror_mode": {
    "name": "ipython",
    "version": 3
   },
   "file_extension": ".py",
   "mimetype": "text/x-python",
   "name": "python",
   "nbconvert_exporter": "python",
   "pygments_lexer": "ipython3",
   "version": "3.9.2"
  }
 },
 "nbformat": 4,
 "nbformat_minor": 5
}
